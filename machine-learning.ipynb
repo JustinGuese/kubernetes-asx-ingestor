{
 "cells": [
  {
   "cell_type": "code",
   "execution_count": null,
   "metadata": {},
   "outputs": [],
   "source": [
    "\n",
    "from sqlalchemy import create_engine\n",
    "import pandas as pd\n",
    "from os import environ\n",
    "import numpy as np\n",
    "engine = create_engine('postgresql://postgres:%s@localhost:5432/postgres'%str(\"huggi678213\"))"
   ]
  },
  {
   "cell_type": "code",
   "execution_count": null,
   "metadata": {},
   "outputs": [],
   "source": [
    "df = pd.read_sql_query('select * from \"asx_data\"',con=engine)\n",
    "#df = df.set_index([\"symbol\",\"timestamp\"])"
   ]
  },
  {
   "cell_type": "code",
   "execution_count": null,
   "metadata": {},
   "outputs": [],
   "source": [
    "df.head()"
   ]
  },
  {
   "cell_type": "code",
   "execution_count": null,
   "metadata": {},
   "outputs": [],
   "source": [
    "df[\"symbol\"].value_counts()"
   ]
  },
  {
   "cell_type": "code",
   "execution_count": null,
   "metadata": {},
   "outputs": [],
   "source": [
    "# create one fucking huge df\n",
    "df = df.set_index([\"symbol\",\"timestamp\"]).reset_index()\n",
    "df[df[\"symbol\"]==\"APT\"].head()"
   ]
  },
  {
   "cell_type": "code",
   "execution_count": null,
   "metadata": {},
   "outputs": [],
   "source": [
    "\n",
    "print(df.shape)\n",
    "df.head()"
   ]
  },
  {
   "cell_type": "code",
   "execution_count": null,
   "metadata": {},
   "outputs": [],
   "source": [
    "# change columns\n",
    "columns = [\"price\",\"quantity\",\"volume\",\"noOrders\",\"turnover-priceTimesQuantity\",\"algorithm1\"]\n",
    "for col in columns:\n",
    "    df[\"%sChangePct\" % col] = df[col].pct_change()\n",
    "# signal\n",
    "df[\"signal\"] = np.sign(df[\"priceChangePct\"])\n",
    "    \n",
    "df = df.drop([\"symbol\",\"timestamp\"],axis=1)\n",
    "print(df.shape)\n",
    "df[columns].head()"
   ]
  },
  {
   "cell_type": "code",
   "execution_count": null,
   "metadata": {},
   "outputs": [],
   "source": [
    "from sklearn.model_selection import train_test_split\n",
    "\n",
    "df = df.replace([np.inf, -np.inf], np.nan)\n",
    "df = df.fillna(0.)\n",
    "\n",
    "Y = df[\"signal\"].shift(-1)\n",
    "# cheat a little and set all 0 (no change) to buy\n",
    "Y = Y.fillna(0.)\n",
    "Y = Y.replace(0.,1.)\n",
    "\n",
    "x_train, x_test, y_train, y_test = train_test_split(df, Y, test_size=0.23, shuffle=False)"
   ]
  },
  {
   "cell_type": "code",
   "execution_count": null,
   "metadata": {},
   "outputs": [],
   "source": [
    "# min max scaling\n",
    "from sklearn.preprocessing import MinMaxScaler\n",
    "scaler = MinMaxScaler()\n",
    "x_train = scaler.fit_transform(x_train)\n",
    "x_test = scaler.transform(x_test)"
   ]
  },
  {
   "cell_type": "code",
   "execution_count": null,
   "metadata": {},
   "outputs": [],
   "source": [
    "np.unique(y_train,return_counts=True)"
   ]
  },
  {
   "cell_type": "code",
   "execution_count": null,
   "metadata": {},
   "outputs": [],
   "source": [
    "from sklearn.linear_model import LassoCV\n",
    "\n",
    "clf = LassoCV()\n",
    "clf.fit(x_train,y_train)\n",
    "scr = clf.score(x_test,y_test)\n",
    "print(scr)"
   ]
  },
  {
   "cell_type": "markdown",
   "metadata": {},
   "source": [
    "# lstm"
   ]
  },
  {
   "cell_type": "code",
   "execution_count": null,
   "metadata": {},
   "outputs": [],
   "source": [
    "def threeD(x):\n",
    "    x_train = []\n",
    "    y_train = []\n",
    "    window = 60\n",
    "    target = -1 # -1 should be ma5_win, change indicator bla bla \n",
    "    for i in range(window, len(x)):\n",
    "        x_train.append(x[i-window:i])\n",
    "        y_train.append(x[i, target]) \n",
    "    x_train, y_train = np.array(x_train), np.array(y_train)\n",
    "    return x_train,y_train\n",
    "\n",
    "x_train,y_train = threeD(x_train)\n",
    "x_test,y_test = threeD(x_test)\n",
    "\n",
    "# next shuffle that shit\n",
    "np.random.shuffle(x_train)\n",
    "np.random.shuffle(x_test)\n",
    "\n",
    "print(x_train.shape,x_test.shape)"
   ]
  },
  {
   "cell_type": "code",
   "execution_count": null,
   "metadata": {},
   "outputs": [],
   "source": [
    "import pyarrow as pa\n",
    "np.savez_compressed(\"data/asxdata\",x_train=x_train,x_test=x_test,y_train=y_train,y_test=y_test)\n"
   ]
  },
  {
   "cell_type": "code",
   "execution_count": null,
   "metadata": {},
   "outputs": [],
   "source": [
    "from tensorflow.keras.models import Sequential\n",
    "from tensorflow.keras.layers import Dense\n",
    "from tensorflow.keras.layers import LSTM\n",
    "from tensorflow.keras.layers import Dropout\n",
    "from tensorflow.keras.metrics import AUC,Precision,Recall\n",
    "from tensorflow.keras.callbacks import ReduceLROnPlateau,EarlyStopping,ModelCheckpoint\n",
    "\n",
    "\n",
    "redlr = ReduceLROnPlateau(monitor=\"val_loss\",patience=100)\n",
    "es = EarlyStopping(monitor=\"val_loss\",patience=200)\n",
    "mcp_save = ModelCheckpoint('data/lstm_stock.hdf5', save_best_only=True, monitor='val_loss', mode='min')\n",
    "\n",
    "\n",
    "\n",
    "classifier = Sequential()\n",
    "\n",
    "classifier.add(LSTM(units = 128, return_sequences = True, input_shape = (x_train.shape[1], x_train.shape[2])))\n",
    "classifier.add(Dropout(0.2))\n",
    "\n",
    "classifier.add(LSTM(units = 256, return_sequences = True))\n",
    "classifier.add(Dropout(0.2))\n",
    "\n",
    "# classifier.add(LSTM(units = 50, return_sequences = True))\n",
    "# classifier.add(Dropout(0.2))\n",
    "\n",
    "classifier.add(LSTM(units = 64))\n",
    "classifier.add(Dropout(0.2))\n",
    "\n",
    "classifier.add(Dense(units = 1))\n",
    "\n",
    "classifier.compile(optimizer = 'adam', loss = 'binary_crossentropy',metrics=['accuracy']) # y_train[y_train==0.5] = 0\n"
   ]
  },
  {
   "cell_type": "code",
   "execution_count": null,
   "metadata": {},
   "outputs": [],
   "source": [
    "classifier.fit(x_train,y_train,validation_data=(x_test,y_test),epochs=200, batch_size=64,callbacks=[redlr,es,mcp_save] )"
   ]
  }
 ],
 "metadata": {
  "kernelspec": {
   "display_name": "Python 3",
   "language": "python",
   "name": "python3"
  },
  "language_info": {
   "codemirror_mode": {
    "name": "ipython",
    "version": 3
   },
   "file_extension": ".py",
   "mimetype": "text/x-python",
   "name": "python",
   "nbconvert_exporter": "python",
   "pygments_lexer": "ipython3",
   "version": "3.9.5"
  }
 },
 "nbformat": 4,
 "nbformat_minor": 2
}
